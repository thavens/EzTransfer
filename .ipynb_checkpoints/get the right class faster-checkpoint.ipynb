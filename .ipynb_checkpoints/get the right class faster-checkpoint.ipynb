{
 "cells": [
  {
   "cell_type": "code",
   "execution_count": 18,
   "id": "28b1ccf4-0759-4802-8012-275482987a2b",
   "metadata": {},
   "outputs": [],
   "source": [
    "import requests\n",
    "from bs4 import BeautifulSoup\n",
    "import urllib\n",
    "from datetime import datetime\n",
    "import time\n",
    "from tqdm.auto import tqdm\n",
    "from utils import secrets"
   ]
  },
  {
   "cell_type": "code",
   "execution_count": 19,
   "id": "c2184dbe-c0cd-4f8b-964d-9bba1a91e714",
   "metadata": {},
   "outputs": [],
   "source": [
    "secrets = secrets()"
   ]
  },
  {
   "cell_type": "code",
   "execution_count": 20,
   "id": "7481bace-45a2-45f9-afd9-331ffe86e191",
   "metadata": {},
   "outputs": [],
   "source": [
    "def termnum(year, quarter, school='deanza'):\n",
    "    school = 1 if school.lower() == 'foothill' else 2\n",
    "    if len(quarter) > 1:\n",
    "        quarter = {'winter':3, 'spring':4, 'summer':11, 'fall':12}[quarter.lower()]\n",
    "    else:\n",
    "        quarter = {'w':3, 's':4, 'm':11, 'f':12}[quarter.lower()]\n",
    "    year = int(year)\n",
    "    return year * 100 + quarter * 10 + school"
   ]
  },
  {
   "cell_type": "code",
   "execution_count": 21,
   "id": "fed58c27-56a3-4649-89a1-53fb35258921",
   "metadata": {},
   "outputs": [],
   "source": [
    "term = termnum(input('year: '), input('quarter: '))\n",
    "datetime_object = datetime.strptime(input('Paste registration date mm/dd/yyyy hr:min(pm/am):'), '%m/%d/%Y %I:%M%p')\n",
    "crns = list()\n",
    "_ = int(input('how many crns are you putting: '))\n",
    "if 10 < _:\n",
    "    print('program doesn\\'t support using more crns than selection boxes (10)')\n",
    "for i in range(_):\n",
    "    crns.append(input(f'crn {i+1}: '))"
   ]
  },
  {
   "cell_type": "markdown",
   "id": "60a2b71a-cba7-4f7e-af41-dfb31b2c178e",
   "metadata": {},
   "source": [
    "# 10 second timer\n",
    "authenticate 10 seconds before class selection."
   ]
  },
  {
   "cell_type": "code",
   "execution_count": 22,
   "id": "5da5ce6f-fd4e-4a89-806a-5d04f62f8b2b",
   "metadata": {},
   "outputs": [
    {
     "name": "stdout",
     "output_type": "stream",
     "text": [
      "waiting for login\n"
     ]
    },
    {
     "name": "stderr",
     "output_type": "stream",
     "text": [
      "  0%|          | 0/100 [00:00<?, ?it/s]\n"
     ]
    }
   ],
   "source": [
    "leeway = 10\n",
    "total = (datetime_object - datetime.now()).total_seconds() - leeway\n",
    "remain = total\n",
    "print('waiting for login')\n",
    "with tqdm(total=100) as pbar:\n",
    "    while(remain > 0):\n",
    "        time.sleep(2)\n",
    "        remain = (datetime_object - datetime.now()).total_seconds() - leeway\n",
    "        pbar.n = round((1-remain/total)*100, 3)\n",
    "        pbar.refresh()\n",
    "        pbar.set_postfix({'time remaining': f'{remain}s'})"
   ]
  },
  {
   "cell_type": "markdown",
   "id": "8228e9ce-2722-4f13-984a-8e2f5011477a",
   "metadata": {},
   "source": [
    "# Authenticate User"
   ]
  },
  {
   "cell_type": "code",
   "execution_count": 23,
   "id": "cc9fe098-ea5c-4974-bc8d-72d975607719",
   "metadata": {},
   "outputs": [],
   "source": [
    "s = requests.Session()\n",
    "r = s.get('https://myportal.fhda.edu/')\n",
    "r = s.post(r.url, data={'j_username': secrets['canvas_user'],'j_password': secrets['canvas_pass'], '_eventId_proceed':''})"
   ]
  },
  {
   "cell_type": "code",
   "execution_count": 24,
   "id": "7fffdcb9-702d-46bc-9275-9572a6754fcc",
   "metadata": {},
   "outputs": [],
   "source": [
    "params = {'relayState' : '%2Fc%2Fauth%2FSSB%3Fpkg%3Dhttps%3A%2F%2Fssb-prod.ec.fhda.edu%2FPROD%2Ffhda_uportal.P_DeepLink_Post%3Fp_page%3Dbwskfreg.P_AltPin%26p_payload%3De30%3D'}\n",
    "r = s.get('https://ssb-prod.ec.fhda.edu/ssomanager/saml/login', params=params)\n"
   ]
  },
  {
   "cell_type": "code",
   "execution_count": 25,
   "id": "2a92c874",
   "metadata": {},
   "outputs": [
    {
     "data": {
      "text/plain": [
       "<Response [200]>"
      ]
     },
     "execution_count": 25,
     "metadata": {},
     "output_type": "execute_result"
    }
   ],
   "source": [
    "r"
   ]
  },
  {
   "cell_type": "code",
   "execution_count": 26,
   "id": "f492a427-095d-4787-a069-b2fbb12a9636",
   "metadata": {},
   "outputs": [],
   "source": [
    "soup = BeautifulSoup(r.text, 'html.parser')\n",
    "\n",
    "url = soup.find('form').get('action')\n",
    "payload = dict()\n",
    "data = zip([i.get('name') for i in soup.find_all('input', type='hidden')], [i.get('value') for i in soup.find_all('input', type='hidden')])\n",
    "for i, j in data:\n",
    "    payload[i] = j\n",
    "r = s.post(url, data=payload)\n",
    "\n",
    "soup = BeautifulSoup(r.text, 'html.parser')\n",
    "\n",
    "url = soup.find('form').get('action')\n",
    "payload = dict()\n",
    "data = zip([i.get('name') for i in soup.find_all('input', type='hidden')], [i.get('value') for i in soup.find_all('input', type='hidden')])\n",
    "for i, j in data:\n",
    "    payload[i] = j\n",
    "r = s.post(url, data=payload, allow_redirects=False)\n",
    "r = s.post(urllib.parse.unquote(r.headers['Location']), allow_redirects=True)"
   ]
  },
  {
   "cell_type": "markdown",
   "id": "98e7a28f-9bbf-412e-9b82-f83fc4fb9a29",
   "metadata": {},
   "source": [
    "# Wait Remaining\n",
    "Wait until exact class selection time."
   ]
  },
  {
   "cell_type": "code",
   "execution_count": 27,
   "id": "772f4cb0-de28-4724-9bbe-5d9ca55b2ab9",
   "metadata": {},
   "outputs": [
    {
     "name": "stdout",
     "output_type": "stream",
     "text": [
      "waiting for registration\n"
     ]
    },
    {
     "name": "stderr",
     "output_type": "stream",
     "text": [
      "  0%|          | 0/100 [00:00<?, ?it/s]\n"
     ]
    }
   ],
   "source": [
    "total = (datetime_object - datetime.now()).total_seconds()\n",
    "remain = total\n",
    "print('waiting for registration')\n",
    "with tqdm(total=100) as pbar:\n",
    "    while(remain > 0):\n",
    "        time.sleep(0.03)\n",
    "        remain = (datetime_object - datetime.now()).total_seconds()\n",
    "        pbar.n = round((1-remain/total)*100, 3)\n",
    "        pbar.refresh()\n",
    "        pbar.set_postfix({'time remaining': f'{remain}s'})\n",
    "#wait an extra 50 ms to make sure server can update\n",
    "time.sleep(0.05)"
   ]
  },
  {
   "cell_type": "markdown",
   "id": "bf458e10-e9f4-4a8b-99d8-a84e3854ba82",
   "metadata": {},
   "source": [
    "# Register"
   ]
  },
  {
   "cell_type": "code",
   "execution_count": 28,
   "id": "5e600d69-a98c-4732-9d88-4cee3b1bcee1",
   "metadata": {},
   "outputs": [],
   "source": [
    "r = s.post('https://ssb-prod.ec.fhda.edu/PROD/bwskfreg.P_AltPin', data={'term_in': term})\n",
    "\n",
    "soup = BeautifulSoup(r.text, 'html.parser')\n",
    "class_payload = [(i.get('name'), i.get('value')) for i in soup.find_all('input', type='hidden')]\n",
    "\n",
    "crn_list = list()\n",
    "for i in range(10):\n",
    "    if i < len(crns):\n",
    "        crn_list.append(('CRN_IN', crns[i]))\n",
    "    else:\n",
    "        crn_list.append(('CRN_IN', None))\n",
    "class_payload += crn_list\n",
    "\n",
    "class_payload += [(i.get('name'), i.get('value')) for i in soup.find_all('input', type='submit', value=\"Submit Changes\")]"
   ]
  },
  {
   "cell_type": "code",
   "execution_count": 29,
   "id": "ea5a1eda-8cf1-48c1-8f02-c005115f5764",
   "metadata": {},
   "outputs": [],
   "source": [
    "r = s.post('https://ssb-prod.ec.fhda.edu/PROD/bwckcoms.P_Regs', data=class_payload)"
   ]
  },
  {
   "cell_type": "code",
   "execution_count": 30,
   "id": "566ed26f",
   "metadata": {},
   "outputs": [],
   "source": [
    "soup = BeautifulSoup(r.text, 'html.parser')\n",
    "with open('test.html', \"w\") as a:\n",
    "    a.write(soup.prettify())\n",
    "#import subprocess\n",
    "#subprocess.Popen('test.html')\n"
   ]
  },
  {
   "cell_type": "markdown",
   "id": "3a670460",
   "metadata": {},
   "source": [
    "# Contingency Using Selenium\n",
    "Once program has tried to enter the CRN's using requests it will try again ASAP using selenium to make sure."
   ]
  },
  {
   "cell_type": "code",
   "execution_count": 15,
   "id": "2ec4989e",
   "metadata": {},
   "outputs": [
    {
     "name": "stderr",
     "output_type": "stream",
     "text": [
      "C:\\Users\\micha\\AppData\\Local\\Temp/ipykernel_3060/1954705037.py:13: DeprecationWarning: executable_path has been deprecated, please pass in a Service object\n",
      "  d = webdriver.Chrome('chromedriver.exe')\n"
     ]
    }
   ],
   "source": [
    "import importlib\n",
    "spam_spec = importlib.util.find_spec(\"selenium\")\n",
    "found = spam_spec is not None\n",
    "\n",
    "if found:\n",
    "    from selenium import webdriver\n",
    "    from selenium.webdriver.support.ui import Select\n",
    "    from selenium.webdriver.common.keys import Keys\n",
    "    from selenium.webdriver.support import expected_conditions as EC\n",
    "    from selenium.webdriver.support.ui import WebDriverWait\n",
    "    from selenium.webdriver.common.by import By\n",
    "    \n",
    "    d = webdriver.Chrome('chromedriver.exe')\n",
    "\n",
    "    d.get('https://myportal.fhda.edu/')\n",
    "    e = d.find_element(By.XPATH, '//*[@id=\"username\"]')\n",
    "    e.send_keys(secrets['canvas_user'])\n",
    "    e = d.find_element(By.XPATH, '//*[@id=\"password\"]')\n",
    "    e.send_keys(secrets['canvas_pass'])\n",
    "    e = WebDriverWait(d, 30).until(EC.presence_of_element_located((By.XPATH, '//*[@id=\"btn-eventId-proceed\"]')))\n",
    "    e.click()\n",
    "    #e = d.find_element(By.XPATH, '//*[@id=\"btn-eventId-proceed\"]')\n",
    "    #e.click()\n",
    "\n",
    "    #e = d.find_element(By.XPATH, '//*[@id=\"react-portal-root\"]/div/div[1]/div[1]/ul/li[3]')\n",
    "    #e.click()\n",
    "    e = WebDriverWait(d, 30).until(EC.presence_of_element_located((By.XPATH, '//*[@id=\"react-portal-root\"]/div/div[1]/div[1]/ul/li[3]')))\n",
    "    e.click()\n",
    "    #e = d.find_element(By.XPATH, '//*[@id=\"react-portal-root\"]/div/div[1]/div[2]/div[2]/div/div[3]/div[3]/div/div/div[27]/div[1]')\n",
    "    #e.click()\n",
    "    e = WebDriverWait(d, 30).until(EC.presence_of_element_located((By.XPATH, '/html/body/div[1]/div/div[1]/div[2]/div[2]/div/div[3]/div[3]/div/div/div[24]')))\n",
    "    e.click()\n",
    "    #e = d.find_element(By.XPATH, '//*[@id=\"react-portal-root\"]/div/div[1]/div[2]/div[2]/div/div/div[1]/div[1]/div/div/div[3]/a')\n",
    "    #e.click()\n",
    "    e = WebDriverWait(d, 30).until(EC.presence_of_element_located((By.XPATH, '//*[@id=\"react-portal-root\"]/div/div[1]/div[2]/div[2]/div/div/div[1]/div[1]/div/div/div[3]/a')))\n",
    "    e.click()\n",
    "    d.switch_to.window(d.window_handles[1])\n",
    "    try:\n",
    "        e = d.find_element(By.XPATH, '//*[@id=\"username\"]')\n",
    "        e.send_keys(secrets['canvas_user'])\n",
    "        e = d.find_element(By.XPATH, '//*[@id=\"password\"]')\n",
    "        e.send_keys(secrets['canvas_pass'])\n",
    "        e = WebDriverWait(d, 30).until(EC.presence_of_element_located((By.XPATH, '//*[@id=\"btn-eventId-proceed\"]')))\n",
    "        e.click()\n",
    "    except:\n",
    "        pass\n",
    "    #e = d.find_element(By.XPATH, '//*[@id=\"term_id\"]')\n",
    "    e = WebDriverWait(d, 30).until(EC.presence_of_element_located((By.XPATH, '//*[@id=\"term_id\"]')))\n",
    "    e.click()\n",
    "    c = None\n",
    "    s = Select(e)\n",
    "    s.select_by_value(f'{term}')\n",
    "\n",
    "    e = d.find_element(By.XPATH, '/html/body/div[3]/form/input')\n",
    "    e.click()\n",
    "    boxes = ['//*[@id=\"crn_id1\"]'] * 10\n",
    "    for idx in range(1,len(boxes)+1):\n",
    "        boxes[idx-1] = boxes[idx-1][:-3] + str(idx) + '\"]'\n",
    "    e = WebDriverWait(d, 30).until(EC.presence_of_element_located((By.XPATH, boxes[0])))\n",
    "    for box, crn in zip(boxes, crns):\n",
    "        e = d.find_element(By.XPATH, box)\n",
    "        e.send_keys(crn)\n",
    "    e = d.find_element(By.XPATH, '/html/body/div[3]/form/input[19]')\n",
    "    e.click()"
   ]
  },
  {
   "cell_type": "code",
   "execution_count": null,
   "id": "e598340e",
   "metadata": {},
   "outputs": [],
   "source": []
  }
 ],
 "metadata": {
  "kernelspec": {
   "display_name": "Python 3 (ipykernel)",
   "language": "python",
   "name": "python3"
  },
  "language_info": {
   "codemirror_mode": {
    "name": "ipython",
    "version": 3
   },
   "file_extension": ".py",
   "mimetype": "text/x-python",
   "name": "python",
   "nbconvert_exporter": "python",
   "pygments_lexer": "ipython3",
   "version": "3.9.7"
  },
  "vscode": {
   "interpreter": {
    "hash": "36ab7f9348c7d0662a1965af503f4376fbff05df74ea3a3ead8d3abcf8650cb8"
   }
  }
 },
 "nbformat": 4,
 "nbformat_minor": 5
}
