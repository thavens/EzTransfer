{
 "cells": [
  {
   "cell_type": "code",
   "execution_count": 1,
   "id": "5a910f93-6a9d-455a-9522-f4d398f11acb",
   "metadata": {},
   "outputs": [],
   "source": [
    "from selenium import webdriver\n",
    "from selenium.webdriver.support.ui import Select\n",
    "from selenium.webdriver.common.keys import Keys\n",
    "from selenium.webdriver.support import expected_conditions as EC\n",
    "from selenium.webdriver.support.ui import WebDriverWait\n",
    "from selenium.webdriver.common.by import By\n",
    "from datetime import datetime\n",
    "import time\n",
    "from tqdm.auto import tqdm\n",
    "from utils import secrets"
   ]
  },
  {
   "cell_type": "code",
   "execution_count": 2,
   "id": "832fa278-951c-4115-b45f-4f4c1276947d",
   "metadata": {},
   "outputs": [],
   "source": [
    "secrets = secrets()\n",
    "\n",
    "id = secrets['canvas_user']\n",
    "ps = secrets['canvas_pass']\n",
    "\n",
    "def termnum(year, quarter, school='deanza'):\n",
    "    school = 1 if school.lower() == 'foothill' else 2\n",
    "    if len(quarter) > 1:\n",
    "        quarter = {'winter':3, 'spring':4, 'summer':11, 'fall':12}[quarter.lower()]\n",
    "    else:\n",
    "        quarter = {'w':3, 's':4, 'm':11, 'f':12}[quarter.lower()]\n",
    "    year = int(year)\n",
    "    return year * 100 + quarter * 10 + school"
   ]
  },
  {
   "cell_type": "code",
   "execution_count": 3,
   "id": "8b346f87-df1d-4d2c-b13f-fd6af6ce2980",
   "metadata": {},
   "outputs": [],
   "source": [
    "term = termnum(input('year: '), input('quarter: '))\n",
    "datetime_object = datetime.strptime(input('Paste registration date mm/dd/yyyy hr:min(pm/am):'), '%m/%d/%Y %I:%M%p')\n",
    "crns = list()\n",
    "_ = int(input('how many crns are you putting: '))\n",
    "if 10 < _:\n",
    "    print('program doesn\\'t support using more crns than selection boxes (10)')\n",
    "for i in range(_):\n",
    "    crns.append(input(f'crn {i+1}: '))"
   ]
  },
  {
   "cell_type": "code",
   "execution_count": 4,
   "id": "8b7ed690-fbff-4807-b69f-f5b09f93b30b",
   "metadata": {},
   "outputs": [
    {
     "name": "stdout",
     "output_type": "stream",
     "text": [
      "waiting for login\n"
     ]
    },
    {
     "name": "stderr",
     "output_type": "stream",
     "text": [
      "  0%|          | 0/100 [00:00<?, ?it/s]\n"
     ]
    }
   ],
   "source": [
    "total = (datetime_object - datetime.now()).total_seconds() - 5*60\n",
    "remain = total\n",
    "print('waiting for login')\n",
    "with tqdm(total=100) as pbar:\n",
    "    while(remain > 0):\n",
    "        time.sleep(2)\n",
    "        remain = (datetime_object - datetime.now()).total_seconds() - 5*60\n",
    "        pbar.n = round((1-remain/total)*100, 3)\n",
    "        pbar.refresh()\n",
    "        pbar.set_postfix({'time remaining': f'{remain}s'})"
   ]
  },
  {
   "cell_type": "code",
   "execution_count": 5,
   "id": "e4720651-7b3b-48e9-8d89-757edf1da862",
   "metadata": {},
   "outputs": [
    {
     "name": "stderr",
     "output_type": "stream",
     "text": [
      "C:\\Users\\micha\\AppData\\Local\\Temp/ipykernel_5824/2609814862.py:1: DeprecationWarning: executable_path has been deprecated, please pass in a Service object\n",
      "  d = webdriver.Chrome('chromedriver.exe')\n"
     ]
    },
    {
     "ename": "SessionNotCreatedException",
     "evalue": "Message: session not created: This version of ChromeDriver only supports Chrome version 103\nCurrent browser version is 105.0.5195.127 with binary path C:\\Program Files\\Google\\Chrome\\Application\\chrome.exe\nStacktrace:\nBacktrace:\n\tOrdinal0 [0x00E86463+2188387]\n\tOrdinal0 [0x00E1E461+1762401]\n\tOrdinal0 [0x00D33D78+802168]\n\tOrdinal0 [0x00D54E59+937561]\n\tOrdinal0 [0x00D50A6C+920172]\n\tOrdinal0 [0x00D4E331+910129]\n\tOrdinal0 [0x00D81430+1119280]\n\tOrdinal0 [0x00D8108A+1118346]\n\tOrdinal0 [0x00D7C5F6+1099254]\n\tOrdinal0 [0x00D56BE0+945120]\n\tOrdinal0 [0x00D57AD6+948950]\n\tGetHandleVerifier [0x011271F2+2712546]\n\tGetHandleVerifier [0x0111886D+2652765]\n\tGetHandleVerifier [0x00F1002A+520730]\n\tGetHandleVerifier [0x00F0EE06+516086]\n\tOrdinal0 [0x00E2468B+1787531]\n\tOrdinal0 [0x00E28E88+1805960]\n\tOrdinal0 [0x00E28F75+1806197]\n\tOrdinal0 [0x00E31DF1+1842673]\n\tBaseThreadInitThunk [0x76816739+25]\n\tRtlGetFullPathName_UEx [0x77C98FD2+1218]\n\tRtlGetFullPathName_UEx [0x77C98F9D+1165]\n",
     "output_type": "error",
     "traceback": [
      "\u001b[1;31m---------------------------------------------------------------------------\u001b[0m",
      "\u001b[1;31mSessionNotCreatedException\u001b[0m                Traceback (most recent call last)",
      "\u001b[1;32m~\\AppData\\Local\\Temp/ipykernel_5824/2609814862.py\u001b[0m in \u001b[0;36m<module>\u001b[1;34m\u001b[0m\n\u001b[1;32m----> 1\u001b[1;33m \u001b[0md\u001b[0m \u001b[1;33m=\u001b[0m \u001b[0mwebdriver\u001b[0m\u001b[1;33m.\u001b[0m\u001b[0mChrome\u001b[0m\u001b[1;33m(\u001b[0m\u001b[1;34m'chromedriver.exe'\u001b[0m\u001b[1;33m)\u001b[0m\u001b[1;33m\u001b[0m\u001b[1;33m\u001b[0m\u001b[0m\n\u001b[0m",
      "\u001b[1;32mc:\\Users\\micha\\anaconda3\\lib\\site-packages\\selenium\\webdriver\\chrome\\webdriver.py\u001b[0m in \u001b[0;36m__init__\u001b[1;34m(self, executable_path, port, options, service_args, desired_capabilities, service_log_path, chrome_options, service, keep_alive)\u001b[0m\n\u001b[0;32m     68\u001b[0m             \u001b[0mservice\u001b[0m \u001b[1;33m=\u001b[0m \u001b[0mService\u001b[0m\u001b[1;33m(\u001b[0m\u001b[0mexecutable_path\u001b[0m\u001b[1;33m,\u001b[0m \u001b[0mport\u001b[0m\u001b[1;33m,\u001b[0m \u001b[0mservice_args\u001b[0m\u001b[1;33m,\u001b[0m \u001b[0mservice_log_path\u001b[0m\u001b[1;33m)\u001b[0m\u001b[1;33m\u001b[0m\u001b[1;33m\u001b[0m\u001b[0m\n\u001b[0;32m     69\u001b[0m \u001b[1;33m\u001b[0m\u001b[0m\n\u001b[1;32m---> 70\u001b[1;33m         super(WebDriver, self).__init__(DesiredCapabilities.CHROME['browserName'], \"goog\",\n\u001b[0m\u001b[0;32m     71\u001b[0m                                         \u001b[0mport\u001b[0m\u001b[1;33m,\u001b[0m \u001b[0moptions\u001b[0m\u001b[1;33m,\u001b[0m\u001b[1;33m\u001b[0m\u001b[1;33m\u001b[0m\u001b[0m\n\u001b[0;32m     72\u001b[0m                                         \u001b[0mservice_args\u001b[0m\u001b[1;33m,\u001b[0m \u001b[0mdesired_capabilities\u001b[0m\u001b[1;33m,\u001b[0m\u001b[1;33m\u001b[0m\u001b[1;33m\u001b[0m\u001b[0m\n",
      "\u001b[1;32mc:\\Users\\micha\\anaconda3\\lib\\site-packages\\selenium\\webdriver\\chromium\\webdriver.py\u001b[0m in \u001b[0;36m__init__\u001b[1;34m(self, browser_name, vendor_prefix, port, options, service_args, desired_capabilities, service_log_path, service, keep_alive)\u001b[0m\n\u001b[0;32m     91\u001b[0m \u001b[1;33m\u001b[0m\u001b[0m\n\u001b[0;32m     92\u001b[0m         \u001b[1;32mtry\u001b[0m\u001b[1;33m:\u001b[0m\u001b[1;33m\u001b[0m\u001b[1;33m\u001b[0m\u001b[0m\n\u001b[1;32m---> 93\u001b[1;33m             RemoteWebDriver.__init__(\n\u001b[0m\u001b[0;32m     94\u001b[0m                 \u001b[0mself\u001b[0m\u001b[1;33m,\u001b[0m\u001b[1;33m\u001b[0m\u001b[1;33m\u001b[0m\u001b[0m\n\u001b[0;32m     95\u001b[0m                 command_executor=ChromiumRemoteConnection(\n",
      "\u001b[1;32mc:\\Users\\micha\\anaconda3\\lib\\site-packages\\selenium\\webdriver\\remote\\webdriver.py\u001b[0m in \u001b[0;36m__init__\u001b[1;34m(self, command_executor, desired_capabilities, browser_profile, proxy, keep_alive, file_detector, options)\u001b[0m\n\u001b[0;32m    266\u001b[0m         \u001b[0mself\u001b[0m\u001b[1;33m.\u001b[0m\u001b[0mfile_detector\u001b[0m \u001b[1;33m=\u001b[0m \u001b[0mfile_detector\u001b[0m \u001b[1;32mor\u001b[0m \u001b[0mLocalFileDetector\u001b[0m\u001b[1;33m(\u001b[0m\u001b[1;33m)\u001b[0m\u001b[1;33m\u001b[0m\u001b[1;33m\u001b[0m\u001b[0m\n\u001b[0;32m    267\u001b[0m         \u001b[0mself\u001b[0m\u001b[1;33m.\u001b[0m\u001b[0mstart_client\u001b[0m\u001b[1;33m(\u001b[0m\u001b[1;33m)\u001b[0m\u001b[1;33m\u001b[0m\u001b[1;33m\u001b[0m\u001b[0m\n\u001b[1;32m--> 268\u001b[1;33m         \u001b[0mself\u001b[0m\u001b[1;33m.\u001b[0m\u001b[0mstart_session\u001b[0m\u001b[1;33m(\u001b[0m\u001b[0mcapabilities\u001b[0m\u001b[1;33m,\u001b[0m \u001b[0mbrowser_profile\u001b[0m\u001b[1;33m)\u001b[0m\u001b[1;33m\u001b[0m\u001b[1;33m\u001b[0m\u001b[0m\n\u001b[0m\u001b[0;32m    269\u001b[0m \u001b[1;33m\u001b[0m\u001b[0m\n\u001b[0;32m    270\u001b[0m     \u001b[1;32mdef\u001b[0m \u001b[0m__repr__\u001b[0m\u001b[1;33m(\u001b[0m\u001b[0mself\u001b[0m\u001b[1;33m)\u001b[0m\u001b[1;33m:\u001b[0m\u001b[1;33m\u001b[0m\u001b[1;33m\u001b[0m\u001b[0m\n",
      "\u001b[1;32mc:\\Users\\micha\\anaconda3\\lib\\site-packages\\selenium\\webdriver\\remote\\webdriver.py\u001b[0m in \u001b[0;36mstart_session\u001b[1;34m(self, capabilities, browser_profile)\u001b[0m\n\u001b[0;32m    357\u001b[0m         parameters = {\"capabilities\": w3c_caps,\n\u001b[0;32m    358\u001b[0m                       \"desiredCapabilities\": capabilities}\n\u001b[1;32m--> 359\u001b[1;33m         \u001b[0mresponse\u001b[0m \u001b[1;33m=\u001b[0m \u001b[0mself\u001b[0m\u001b[1;33m.\u001b[0m\u001b[0mexecute\u001b[0m\u001b[1;33m(\u001b[0m\u001b[0mCommand\u001b[0m\u001b[1;33m.\u001b[0m\u001b[0mNEW_SESSION\u001b[0m\u001b[1;33m,\u001b[0m \u001b[0mparameters\u001b[0m\u001b[1;33m)\u001b[0m\u001b[1;33m\u001b[0m\u001b[1;33m\u001b[0m\u001b[0m\n\u001b[0m\u001b[0;32m    360\u001b[0m         \u001b[1;32mif\u001b[0m \u001b[1;34m'sessionId'\u001b[0m \u001b[1;32mnot\u001b[0m \u001b[1;32min\u001b[0m \u001b[0mresponse\u001b[0m\u001b[1;33m:\u001b[0m\u001b[1;33m\u001b[0m\u001b[1;33m\u001b[0m\u001b[0m\n\u001b[0;32m    361\u001b[0m             \u001b[0mresponse\u001b[0m \u001b[1;33m=\u001b[0m \u001b[0mresponse\u001b[0m\u001b[1;33m[\u001b[0m\u001b[1;34m'value'\u001b[0m\u001b[1;33m]\u001b[0m\u001b[1;33m\u001b[0m\u001b[1;33m\u001b[0m\u001b[0m\n",
      "\u001b[1;32mc:\\Users\\micha\\anaconda3\\lib\\site-packages\\selenium\\webdriver\\remote\\webdriver.py\u001b[0m in \u001b[0;36mexecute\u001b[1;34m(self, driver_command, params)\u001b[0m\n\u001b[0;32m    422\u001b[0m         \u001b[0mresponse\u001b[0m \u001b[1;33m=\u001b[0m \u001b[0mself\u001b[0m\u001b[1;33m.\u001b[0m\u001b[0mcommand_executor\u001b[0m\u001b[1;33m.\u001b[0m\u001b[0mexecute\u001b[0m\u001b[1;33m(\u001b[0m\u001b[0mdriver_command\u001b[0m\u001b[1;33m,\u001b[0m \u001b[0mparams\u001b[0m\u001b[1;33m)\u001b[0m\u001b[1;33m\u001b[0m\u001b[1;33m\u001b[0m\u001b[0m\n\u001b[0;32m    423\u001b[0m         \u001b[1;32mif\u001b[0m \u001b[0mresponse\u001b[0m\u001b[1;33m:\u001b[0m\u001b[1;33m\u001b[0m\u001b[1;33m\u001b[0m\u001b[0m\n\u001b[1;32m--> 424\u001b[1;33m             \u001b[0mself\u001b[0m\u001b[1;33m.\u001b[0m\u001b[0merror_handler\u001b[0m\u001b[1;33m.\u001b[0m\u001b[0mcheck_response\u001b[0m\u001b[1;33m(\u001b[0m\u001b[0mresponse\u001b[0m\u001b[1;33m)\u001b[0m\u001b[1;33m\u001b[0m\u001b[1;33m\u001b[0m\u001b[0m\n\u001b[0m\u001b[0;32m    425\u001b[0m             response['value'] = self._unwrap_value(\n\u001b[0;32m    426\u001b[0m                 response.get('value', None))\n",
      "\u001b[1;32mc:\\Users\\micha\\anaconda3\\lib\\site-packages\\selenium\\webdriver\\remote\\errorhandler.py\u001b[0m in \u001b[0;36mcheck_response\u001b[1;34m(self, response)\u001b[0m\n\u001b[0;32m    245\u001b[0m                 \u001b[0malert_text\u001b[0m \u001b[1;33m=\u001b[0m \u001b[0mvalue\u001b[0m\u001b[1;33m[\u001b[0m\u001b[1;34m'alert'\u001b[0m\u001b[1;33m]\u001b[0m\u001b[1;33m.\u001b[0m\u001b[0mget\u001b[0m\u001b[1;33m(\u001b[0m\u001b[1;34m'text'\u001b[0m\u001b[1;33m)\u001b[0m\u001b[1;33m\u001b[0m\u001b[1;33m\u001b[0m\u001b[0m\n\u001b[0;32m    246\u001b[0m             \u001b[1;32mraise\u001b[0m \u001b[0mexception_class\u001b[0m\u001b[1;33m(\u001b[0m\u001b[0mmessage\u001b[0m\u001b[1;33m,\u001b[0m \u001b[0mscreen\u001b[0m\u001b[1;33m,\u001b[0m \u001b[0mstacktrace\u001b[0m\u001b[1;33m,\u001b[0m \u001b[0malert_text\u001b[0m\u001b[1;33m)\u001b[0m  \u001b[1;31m# type: ignore[call-arg]  # mypy is not smart enough here\u001b[0m\u001b[1;33m\u001b[0m\u001b[1;33m\u001b[0m\u001b[0m\n\u001b[1;32m--> 247\u001b[1;33m         \u001b[1;32mraise\u001b[0m \u001b[0mexception_class\u001b[0m\u001b[1;33m(\u001b[0m\u001b[0mmessage\u001b[0m\u001b[1;33m,\u001b[0m \u001b[0mscreen\u001b[0m\u001b[1;33m,\u001b[0m \u001b[0mstacktrace\u001b[0m\u001b[1;33m)\u001b[0m\u001b[1;33m\u001b[0m\u001b[1;33m\u001b[0m\u001b[0m\n\u001b[0m\u001b[0;32m    248\u001b[0m \u001b[1;33m\u001b[0m\u001b[0m\n\u001b[0;32m    249\u001b[0m     \u001b[1;32mdef\u001b[0m \u001b[0m_value_or_default\u001b[0m\u001b[1;33m(\u001b[0m\u001b[0mself\u001b[0m\u001b[1;33m,\u001b[0m \u001b[0mobj\u001b[0m\u001b[1;33m:\u001b[0m \u001b[0mMapping\u001b[0m\u001b[1;33m[\u001b[0m\u001b[0m_KT\u001b[0m\u001b[1;33m,\u001b[0m \u001b[0m_VT\u001b[0m\u001b[1;33m]\u001b[0m\u001b[1;33m,\u001b[0m \u001b[0mkey\u001b[0m\u001b[1;33m:\u001b[0m \u001b[0m_KT\u001b[0m\u001b[1;33m,\u001b[0m \u001b[0mdefault\u001b[0m\u001b[1;33m:\u001b[0m \u001b[0m_VT\u001b[0m\u001b[1;33m)\u001b[0m \u001b[1;33m->\u001b[0m \u001b[0m_VT\u001b[0m\u001b[1;33m:\u001b[0m\u001b[1;33m\u001b[0m\u001b[1;33m\u001b[0m\u001b[0m\n",
      "\u001b[1;31mSessionNotCreatedException\u001b[0m: Message: session not created: This version of ChromeDriver only supports Chrome version 103\nCurrent browser version is 105.0.5195.127 with binary path C:\\Program Files\\Google\\Chrome\\Application\\chrome.exe\nStacktrace:\nBacktrace:\n\tOrdinal0 [0x00E86463+2188387]\n\tOrdinal0 [0x00E1E461+1762401]\n\tOrdinal0 [0x00D33D78+802168]\n\tOrdinal0 [0x00D54E59+937561]\n\tOrdinal0 [0x00D50A6C+920172]\n\tOrdinal0 [0x00D4E331+910129]\n\tOrdinal0 [0x00D81430+1119280]\n\tOrdinal0 [0x00D8108A+1118346]\n\tOrdinal0 [0x00D7C5F6+1099254]\n\tOrdinal0 [0x00D56BE0+945120]\n\tOrdinal0 [0x00D57AD6+948950]\n\tGetHandleVerifier [0x011271F2+2712546]\n\tGetHandleVerifier [0x0111886D+2652765]\n\tGetHandleVerifier [0x00F1002A+520730]\n\tGetHandleVerifier [0x00F0EE06+516086]\n\tOrdinal0 [0x00E2468B+1787531]\n\tOrdinal0 [0x00E28E88+1805960]\n\tOrdinal0 [0x00E28F75+1806197]\n\tOrdinal0 [0x00E31DF1+1842673]\n\tBaseThreadInitThunk [0x76816739+25]\n\tRtlGetFullPathName_UEx [0x77C98FD2+1218]\n\tRtlGetFullPathName_UEx [0x77C98F9D+1165]\n"
     ]
    }
   ],
   "source": [
    "d = webdriver.Chrome('chromedriver.exe')"
   ]
  },
  {
   "cell_type": "code",
   "execution_count": 6,
   "id": "e39b9a35-87e6-46b5-b899-6237d7539e8d",
   "metadata": {},
   "outputs": [],
   "source": [
    "d.get('https://myportal.fhda.edu/')"
   ]
  },
  {
   "cell_type": "code",
   "execution_count": 7,
   "id": "587ae568-81ee-4d09-8d84-7824b1f3baf4",
   "metadata": {},
   "outputs": [],
   "source": [
    "e = d.find_element_by_xpath('//*[@id=\"j_username\"]')\n",
    "e.send_keys(id)\n",
    "e = d.find_element_by_xpath('//*[@id=\"j_password\"]')\n",
    "e.send_keys(ps)\n",
    "e = WebDriverWait(d, 30).until(EC.presence_of_element_located((By.XPATH, '//*[@id=\"btn-eventId-proceed\"]')))\n",
    "e.click()\n",
    "#e = d.find_element_by_xpath('//*[@id=\"btn-eventId-proceed\"]')\n",
    "#e.click()"
   ]
  },
  {
   "cell_type": "code",
   "execution_count": 8,
   "id": "f2a17ff8-eef4-4f88-8311-bd15835451fe",
   "metadata": {},
   "outputs": [],
   "source": [
    "#e = d.find_element_by_xpath('//*[@id=\"react-portal-root\"]/div/div[1]/div[1]/ul/li[3]')\n",
    "#e.click()\n",
    "e = WebDriverWait(d, 30).until(EC.presence_of_element_located((By.XPATH, '//*[@id=\"react-portal-root\"]/div/div[1]/div[1]/ul/li[3]')))\n",
    "e.click()"
   ]
  },
  {
   "cell_type": "code",
   "execution_count": 9,
   "id": "fd38d11a-efe5-4981-a362-c0cdad75e21d",
   "metadata": {},
   "outputs": [],
   "source": [
    "#e = d.find_element_by_xpath('//*[@id=\"react-portal-root\"]/div/div[1]/div[2]/div[2]/div/div[3]/div[3]/div/div/div[27]/div[1]')\n",
    "#e.click()\n",
    "e = WebDriverWait(d, 30).until(EC.presence_of_element_located((By.XPATH, '//*[@id=\"react-portal-root\"]/div/div[1]/div[2]/div[2]/div/div[3]/div[3]/div/div/div[27]/div[1]')))\n",
    "e.click()"
   ]
  },
  {
   "cell_type": "code",
   "execution_count": 10,
   "id": "75efe276-b954-4179-9816-45baa8a12267",
   "metadata": {},
   "outputs": [],
   "source": [
    "#e = d.find_element_by_xpath('//*[@id=\"react-portal-root\"]/div/div[1]/div[2]/div[2]/div/div/div[1]/div[1]/div/div/div[3]/a')\n",
    "#e.click()\n",
    "e = WebDriverWait(d, 30).until(EC.presence_of_element_located((By.XPATH, '//*[@id=\"react-portal-root\"]/div/div[1]/div[2]/div[2]/div/div/div[1]/div[1]/div/div/div[3]/a')))\n",
    "e.click()"
   ]
  },
  {
   "cell_type": "code",
   "execution_count": 11,
   "id": "46565600-e39b-4c91-baf3-c5f79827546c",
   "metadata": {},
   "outputs": [],
   "source": [
    "d.switch_to.window(d.window_handles[1])"
   ]
  },
  {
   "cell_type": "code",
   "execution_count": 12,
   "id": "c1ab974a-ad26-41db-80cd-452e0144612d",
   "metadata": {},
   "outputs": [],
   "source": [
    "#e = d.find_element_by_xpath('//*[@id=\"term_id\"]')\n",
    "e = WebDriverWait(d, 30).until(EC.presence_of_element_located((By.XPATH, '//*[@id=\"term_id\"]')))\n",
    "e.click()\n",
    "c = None\n",
    "s = Select(e)\n",
    "s.select_by_value(f'{term}')"
   ]
  },
  {
   "cell_type": "code",
   "execution_count": 13,
   "id": "f641dbb5-531b-42dd-8f06-6d84e7ed5168",
   "metadata": {},
   "outputs": [
    {
     "name": "stdout",
     "output_type": "stream",
     "text": [
      "waiting for registration\n"
     ]
    },
    {
     "data": {
      "application/vnd.jupyter.widget-view+json": {
       "model_id": "829e3a2e867e40e98a690e1a27ace5e5",
       "version_major": 2,
       "version_minor": 0
      },
      "text/plain": [
       "  0%|          | 0/100 [00:00<?, ?it/s]"
      ]
     },
     "metadata": {},
     "output_type": "display_data"
    }
   ],
   "source": [
    "total = (datetime_object - datetime.now()).total_seconds()\n",
    "remain = total\n",
    "print('waiting for registration')\n",
    "with tqdm(total=100) as pbar:\n",
    "    while(remain > 0):\n",
    "        time.sleep(0.03)\n",
    "        remain = (datetime_object - datetime.now()).total_seconds()\n",
    "        pbar.n = round((1-remain/total)*100, 3)\n",
    "        pbar.refresh()\n",
    "        pbar.set_postfix({'time remaining': f'{remain}s'})"
   ]
  },
  {
   "cell_type": "code",
   "execution_count": 14,
   "id": "38fe2792-2659-477c-932f-d2f94a0fd227",
   "metadata": {},
   "outputs": [],
   "source": [
    "e = d.find_element_by_xpath('/html/body/div[3]/form/input')\n",
    "e.click()"
   ]
  },
  {
   "cell_type": "code",
   "execution_count": 15,
   "id": "b03fa922-8f9b-415b-9384-7c788c50048f",
   "metadata": {},
   "outputs": [],
   "source": [
    "boxes = ['//*[@id=\"crn_id1\"]'] * 10\n",
    "for idx in range(1,len(boxes)+1):\n",
    "    boxes[idx-1] = boxes[idx-1][:-3] + str(idx) + '\"]'"
   ]
  },
  {
   "cell_type": "code",
   "execution_count": 16,
   "id": "b6fafa9c-32e6-4dec-b902-bf840bf6773f",
   "metadata": {},
   "outputs": [],
   "source": [
    "e = WebDriverWait(d, 30).until(EC.presence_of_element_located((By.XPATH, boxes[0])))\n",
    "for box, crn in zip(boxes, crns):\n",
    "    e = d.find_element_by_xpath(box)\n",
    "    e.send_keys(crn)"
   ]
  },
  {
   "cell_type": "code",
   "execution_count": 17,
   "id": "e8dc9b1d-7b0b-43d9-bbc0-99a1c51e7e09",
   "metadata": {},
   "outputs": [
    {
     "data": {
      "text/plain": [
       "<bound method WebElement.click of <selenium.webdriver.remote.webelement.WebElement (session=\"fd446cd8853dfa5e57e655b3a21b14b2\", element=\"273fd7b4-6a46-4745-b7b5-daa2384778db\")>>"
      ]
     },
     "execution_count": 17,
     "metadata": {},
     "output_type": "execute_result"
    }
   ],
   "source": [
    "e = d.find_element_by_xpath('/html/body/div[3]/form/input[19]')\n",
    "e.click"
   ]
  },
  {
   "cell_type": "code",
   "execution_count": 18,
   "id": "3d9e2c19-5a2f-4ea2-806d-8a2c775b1e76",
   "metadata": {},
   "outputs": [],
   "source": [
    "d.refresh()"
   ]
  },
  {
   "cell_type": "code",
   "execution_count": null,
   "id": "527d604d-9918-4f4d-8fc6-26e1620396c4",
   "metadata": {},
   "outputs": [],
   "source": []
  }
 ],
 "metadata": {
  "kernelspec": {
   "display_name": "Python 3 (ipykernel)",
   "language": "python",
   "name": "python3"
  },
  "language_info": {
   "codemirror_mode": {
    "name": "ipython",
    "version": 3
   },
   "file_extension": ".py",
   "mimetype": "text/x-python",
   "name": "python",
   "nbconvert_exporter": "python",
   "pygments_lexer": "ipython3",
   "version": "3.9.7"
  },
  "vscode": {
   "interpreter": {
    "hash": "36ab7f9348c7d0662a1965af503f4376fbff05df74ea3a3ead8d3abcf8650cb8"
   }
  }
 },
 "nbformat": 4,
 "nbformat_minor": 5
}
